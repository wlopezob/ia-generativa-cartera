{
 "cells": [
  {
   "cell_type": "code",
   "execution_count": 15,
   "id": "9c24355b",
   "metadata": {},
   "outputs": [
    {
     "data": {
      "text/plain": [
       "True"
      ]
     },
     "execution_count": 15,
     "metadata": {},
     "output_type": "execute_result"
    }
   ],
   "source": [
    "from langchain.chains import RetrievalQA\n",
    "from langchain.prompts import PromptTemplate\n",
    "from langchain.memory import ConversationBufferMemory\n",
    "\n",
    "from langchain_google_genai import GoogleGenerativeAI\n",
    "from langchain_google_community import VertexAISearchRetriever\n",
    "\n",
    "from dotenv import load_dotenv\n",
    "import os\n",
    "# Load environment variables\n",
    "load_dotenv()"
   ]
  },
  {
   "cell_type": "code",
   "execution_count": 16,
   "id": "f61b7a4b",
   "metadata": {},
   "outputs": [
    {
     "name": "stderr",
     "output_type": "stream",
     "text": [
      "/home/wlopez/rust/ia-generativa-cartera/rag-gemini/.venv/lib/python3.12/site-packages/langchain_google_community/vertex_ai_search.py:364: UserWarning: Beta features are configured but beta=False. The following beta features will be ignored:['custom_embedding_ratio']\n",
      "  warnings.warn(\n",
      "/home/wlopez/rust/ia-generativa-cartera/rag-gemini/.venv/lib/python3.12/site-packages/google/auth/_default.py:76: UserWarning: Your application has authenticated using end user credentials from Google Cloud SDK without a quota project. You might receive a \"quota exceeded\" or \"API not enabled\" error. See the following page for troubleshooting: https://cloud.google.com/docs/authentication/adc-troubleshooting/user-creds. \n",
      "  warnings.warn(_CLOUD_SDK_CREDENTIALS_WARNING)\n"
     ]
    }
   ],
   "source": [
    "# Retriever\n",
    "\n",
    "retriever = VertexAISearchRetriever(\n",
    "    project_id=\"gen-lang-client-0647812146\",\n",
    "    location_id=\"global\",\n",
    "    data_store_id=\"legalaco_1746207105123\",\n",
    "    max_documents=5\n",
    ")"
   ]
  },
  {
   "cell_type": "code",
   "execution_count": 17,
   "id": "10f6833e",
   "metadata": {},
   "outputs": [
    {
     "name": "stdout",
     "output_type": "stream",
     "text": [
      "[Document(metadata={'id': '76d8fa4d8431ff949d9519d789b33c09', 'source': 'gs://legalaco/LeyGeneralDeContratacionesPublicas.pdf', 'previous_segments': [{'content': '# d) Inscripción o reinscripción de consultores de obras, persona jurídica extranjera\\n\\n1. Solicitud presentada mediante formulario. 2. Indicar el número de recibo y fecha del pago (por derecho de tramitación). 3. Copia de la escritura pública inscrita en Registros Públicos o ante autoridad competente en su país de origen o copia del documento oficial emitido por la autoridad registral, institución o autoridad competente en su país de origen, que acredite que su representante legal cuenta con la facultad de representación en procedimientos administrativos ante entidades públicas fuera de su país de origen, en la cual debe encontrarse comprendido el Perú, cuando la persona jurídica actúe con representante legal desde su país de origen. 4. Copia de documento oficial emitido por autoridad registral, institución o autoridad competente en su país de origen, según sea el caso, que acredite la información actualizada declarada en el formulario oficial respecto de la conformación jurídica de la matriz, o, en su defecto, copia de la escritura pública, donde conste su inscripción ante entidad similar a Registros Públicos o ante autoridad competente en su país de origen. Cuando en dichos documentos no figure la distribución de acciones y/o la fecha de ingreso de los socios, presenta copia del documento similar al libro de matrícula de acciones y copia de su hoja donde conste la legalización de la apertura del libro o copia de la escritura pública o copia del acta de la Junta General de Accionistas de la empresa donde figure dicha información, según corresponda. Excepcionalmente, cuando el país de origen no expida los instrumentos antes mencionados, puede presentar copia del documento emitido por el órgano de administración que cuente con facultades para realizar dichas declaraciones. 5. Cuando las acciones sean cotizadas en bolsa, para efectos de acreditar a los socios, fecha de ingreso y distribución de acciones, presenta copia del certificado que emite el organismo pertinente (bolsa de valores) o documento suscrito por el órgano de administración que cuente con facultades para realizar dichas declaraciones. 6. Copia de los Estados Financieros Auditados individuales del último ejercicio económico; o en su defecto, copia de los Estados Financieros Auditados\\n\\n# 254\\n\\nA LEGAL ACO ESCUELA DE GESTORES PUBLICOS consolidados en los que se pueda evidenciar de forma individual la información financiera de la empresa que solicita su inscripción o reinscripción; en ambos casos, debe contener como mínimo la copia del Dictamen de auditor independiente, y las copias del Estado de Situación Financiera, Estado de Resultados y las Notas Contables respectivas. En caso no cumpla con la condición de solvencia, respecto a los ratios de “endeudamiento” y/o “liquidez” corriente, debe presentar cronograma mensual de las amortizaciones durante el ejercicio siguiente de las cuentas que conforman el \"total pasivo” o el \"total pasivo corriente”, respectivamente, debidamente firmados por el órgano de administración de la matriz. En caso de insolvencia patrimonial a causa de pérdidas del ejercicio o acumuladas, el proveedor debe presentar la copia de los Estados Financieros', 'page_span': {'page_end': 255.0, 'page_start': 251.0}, 'id': 'c363'}], 'next_segments': [{'content': 'Adicionalmente a las condiciones establecidas en el artículo 25, los ejecutores de obras deben presentar los siguientes requisitos, en el marco de los procedimientos administrativos a cargo del OECE: a) Inscripción o reinscripción de ejecutores de obras, persona natural nacional 1. Solicitud presentada mediante formulario. 2. Indicar el número de recibo y fecha del pago (por derecho de tramitación). 3. Copia del documento expedido por el Colegio Profesional de Arquitectos o de Ingenieros del Perú, cuando no se visualice la fecha de incorporación, profesión y especialidad en la página web de los referidos colegios profesionales. 4. Copia de la declaración jurada anual del Impuesto a la Renta tercera categoría del último ejercicio gravable declarada a la SUNAT y la constancia de presentación respectiva; o en su defecto, la copia de los Estados Financieros Auditados individuales del último ejercicio económico, conteniendo como mínimo copia del Dictamen de auditor independiente; y las copias del Estado de Situación Financiera, Estado de Resultados y las Notas Contables respectivas; o consignar en el formulario electrónico los Estados Financieros Situacionales, cuando en los casos de inscripción acredite no haberse encontrado obligado a presentar la última declaración de Renta tercera categoría a SUNAT y cuente con más de seis (6) meses de actividades económicas o consignar en el formulario electrónico los Estados Financieros Situacionales, cuando en los casos de reinscripción acredite no haberse encontrado obligado a presentar la última declaración de Renta tercera categoría. En caso cuente con menos de seis (6) meses de actividades económicas debe acreditar su capital con copia del Libro Contable que corresponda, en el que se muestre el registro de la cuenta Capital. En todos los casos, los activos que respalden el capital contable deben corresponder a bienes propios de la persona natural. Cuando la calificación reportada a la Central de Riesgos de la SBS sea distinta a la “Normal (0)^{\\\\prime\\\\prime}, debe consignar en el formulario electrónico los Estados Financieros Situacionales, así como, presentar la copia del comprobante de pago, constancia de pago de deuda reportada, constancia de deuda no vencida, cronograma de refinanciamiento, constancia de no adeudos u otro documento que corresponda, para acreditar mejora o regularización sobre la(s) deuda(s) reportada(s). En caso no cumpla con la condición de solvencia, respecto a las ratios de \"endeudamiento” y/o “liquidez corriente, debe consignar en el formulario electrónico los Estados Financieros Situacionales. En caso de insolvencia patrimonial a causa de pérdidas del ejercicio o acumuladas, el proveedor debe consignar en el formulario electrónico los Estados Financieros Situacionales, a fin de demostrar haber restablecido el equilibrio económico entre el capital y el patrimonio neto para cumplir con los parámetros de medición de solvencia económica establecidos para el RNP.\\n\\n# 256\\n\\nTA LEGAL ACO ESCUELA DE GESTORES PUBLICOS 5. De contar con experiencia en ejecución de obras culminadas en el Perú y/o en el extranjero, se debe acreditar con lo siguiente: 5.1 Para solicitud de inscripción y/o reinscripción i. Ejecución de obras culminadas en el extranjero a) Copia del contrato de ejecución de obra.', 'page_span': {'page_end': 254.0, 'page_start': 253.0}, 'id': 'c365'}]}, page_content='Situacionales conteniendo como mínimo el Estado de Situación Financiera, Estado de Resultados y las Notas Contables respectivas, debidamente firmados por el órgano de administración de la matriz, a fin de demostrar haber restablecido el equilibrio económico entre el capital y el patrimonio neto para cumplir con los parámetros de medición de solvencia económica establecidos para el RNP. 7. De contar con experiencia en consultoría de obras culminadas en el Perú y/o en el extranjero, se debe acreditar con lo siguiente: 7.1 Para solicitud de inscripción y/o reinscripción i. Consultoría de obras culminadas en el extranjero: a) Copia del contrato de consultoría de obra. b) Copia del (o los) documento(s) de conformidad o viabilidad según corresponda emitido(s) por el contratante, donde indique nombre del contratista o consorcio (de ser consorcio debe indicar además las obligaciones asumidas por cada integrante), objeto del contrato, el monto del contrato, la fecha de culminación de la consultoría, y descripción de los trabajos o metas de la consultoría. ii. Consultoría de obras culminadas en el Perú fuera del marco de la Ley: a) Copia del contrato de consultoría de obra. b) Copia del (o los) documento(s) emitido(s) por el contratante, donde indique el nombre del contratista y RUC, en caso de consorcio debe hacer dicha precisión respecto a cada uno de los consorciados la responsabilidad de cada uno de ellos; ubicación de la obra, fecha de culminación de la consultoría; y monto final de la consultoría. c) Copia del documento de aprobación del expediente técnico o documento que declara viable la ficha técnica de inversión o estudios de preinversión y/o conformidad de obra para el caso de supervisión de obra emitido por la autoridad competente y en caso de que, por la naturaleza de la obra, no exista autoridad competente, la aprobación debe ser emitida por el órgano técnico de la contratante. d) Documento emitido por la contratante donde se detalle la descripción de la obra y las actividades desarrolladas por el consultor. e) Copia de los comprobantes de pago emitidos por el Proveedor, cuya sumatoria debe ser equivalente al monto final de la consultoría. 7.2 Adicionalmente, para solicitud de reinscripción: i. Consultoría de obras culminadas en el Perú en el marco de la Ley: TA LEGAL ACO ESCUELA DE GESTORES PUBLICOS\\n\\n# 255\\n\\na) Copia de la Constancia de Prestación u otro documento, emitido por la entidad contratante, el mismo que, entre otros datos, contiene la siguiente información: entidad contratante, procedimiento de selección, nombre del contratista; el nombre y RUC de cada consorciado con las obligaciones asumidas de cada consorciado; ubicación de la obra proyectada o supervisada según corresponda; objeto de la consultoría, fecha de suscripción del contrato, monto del contrato, fecha de culminación de la consultoría de obra, y adicionalmente para el caso de la categoría (a), debe presentar documento que declara viable la ficha técnica de inversión o estudios de preinversión. 381.3. Ejecutores de obras')]\n"
     ]
    }
   ],
   "source": [
    "result = retriever.invoke(\"De que trata el documento?\")\n",
    "print(result)"
   ]
  },
  {
   "cell_type": "code",
   "execution_count": 18,
   "id": "a99f0a36",
   "metadata": {},
   "outputs": [],
   "source": [
    "llm = GoogleGenerativeAI(\n",
    "    model=\"gemini-2.0-flash\",\n",
    "    temperature=0.5,\n",
    "    top_p=0.8,\n",
    "    top_k=40,\n",
    "    google_api_key=os.getenv(\"GOOGLE_API_KEY\")\n",
    ")"
   ]
  },
  {
   "cell_type": "code",
   "execution_count": 19,
   "id": "836e459a",
   "metadata": {},
   "outputs": [
    {
     "data": {
      "text/plain": [
       "'¡Hola! Estoy bien, gracias por preguntar. ¿Y tú, cómo estás? ¿En qué puedo ayudarte hoy?'"
      ]
     },
     "execution_count": 19,
     "metadata": {},
     "output_type": "execute_result"
    }
   ],
   "source": [
    "llm.invoke(\"hola como estas?\")"
   ]
  },
  {
   "cell_type": "code",
   "execution_count": 20,
   "id": "a7ceada8",
   "metadata": {},
   "outputs": [],
   "source": [
    "#Template\n",
    "\n",
    "template = \"\"\"\n",
    "  Use the context and the history to answer the question.\n",
    "  If do not have enough information to answer the question, say: \"I do not have enough information\".\n",
    "  You allways answer in Spanish.\n",
    "  You are a lawyer and you are answering a question about a legal document.\n",
    "\n",
    "  Context:\n",
    "  {context}\n",
    "\n",
    "  History:\n",
    "  {history}\n",
    "\n",
    "  Question:\n",
    "  {question}\n",
    "\n",
    "  Answer:\n",
    "\"\"\"\n",
    "\n",
    "prompt = PromptTemplate(\n",
    "    template=template,\n",
    "    input_variables=[\n",
    "        \"history\",\n",
    "        \"context\",\n",
    "        \"question\"\n",
    "    ]\n",
    ")\n",
    "  "
   ]
  },
  {
   "cell_type": "code",
   "execution_count": 21,
   "id": "2584950a",
   "metadata": {},
   "outputs": [
    {
     "name": "stderr",
     "output_type": "stream",
     "text": [
      "/tmp/ipykernel_297548/1729249497.py:10: LangChainDeprecationWarning: Please see the migration guide at: https://python.langchain.com/docs/versions/migrating_memory/\n",
      "  \"memory\": ConversationBufferMemory(memory_key=\"history\", input_key=\"question\")\n"
     ]
    }
   ],
   "source": [
    "#Q&A\n",
    "\n",
    "qa = RetrievalQA.from_chain_type(\n",
    "    llm=llm,\n",
    "    retriever=retriever,\n",
    "    chain_type=\"stuff\",\n",
    "    chain_type_kwargs={\n",
    "                \"verbose\": True,\n",
    "                \"prompt\": prompt,\n",
    "                \"memory\": ConversationBufferMemory(memory_key=\"history\", input_key=\"question\")\n",
    "            })"
   ]
  },
  {
   "cell_type": "code",
   "execution_count": 22,
   "id": "e206c0ae",
   "metadata": {},
   "outputs": [
    {
     "name": "stderr",
     "output_type": "stream",
     "text": [
      "/tmp/ipykernel_297548/3308726628.py:1: LangChainDeprecationWarning: The method `Chain.__call__` was deprecated in langchain 0.1.0 and will be removed in 1.0. Use :meth:`~invoke` instead.\n",
      "  x = qa({\"query\": \"de que trata el documento?\"})\n"
     ]
    },
    {
     "name": "stdout",
     "output_type": "stream",
     "text": [
      "\n",
      "\n",
      "\u001b[1m> Entering new StuffDocumentsChain chain...\u001b[0m\n",
      "\n",
      "\n",
      "\u001b[1m> Entering new LLMChain chain...\u001b[0m\n",
      "Prompt after formatting:\n",
      "\u001b[32;1m\u001b[1;3m\n",
      "  Use the context and the history to answer the question.\n",
      "  If do not have enough information to answer the question, say: \"I do not have enough information\".\n",
      "  You allways answer in Spanish.\n",
      "  You are a lawyer and you are answering a question about a legal document.\n",
      "\n",
      "  Context:\n",
      "  Situacionales conteniendo como mínimo el Estado de Situación Financiera, Estado de Resultados y las Notas Contables respectivas, debidamente firmados por el órgano de administración de la matriz, a fin de demostrar haber restablecido el equilibrio económico entre el capital y el patrimonio neto para cumplir con los parámetros de medición de solvencia económica establecidos para el RNP. 7. De contar con experiencia en consultoría de obras culminadas en el Perú y/o en el extranjero, se debe acreditar con lo siguiente: 7.1 Para solicitud de inscripción y/o reinscripción i. Consultoría de obras culminadas en el extranjero: a) Copia del contrato de consultoría de obra. b) Copia del (o los) documento(s) de conformidad o viabilidad según corresponda emitido(s) por el contratante, donde indique nombre del contratista o consorcio (de ser consorcio debe indicar además las obligaciones asumidas por cada integrante), objeto del contrato, el monto del contrato, la fecha de culminación de la consultoría, y descripción de los trabajos o metas de la consultoría. ii. Consultoría de obras culminadas en el Perú fuera del marco de la Ley: a) Copia del contrato de consultoría de obra. b) Copia del (o los) documento(s) emitido(s) por el contratante, donde indique el nombre del contratista y RUC, en caso de consorcio debe hacer dicha precisión respecto a cada uno de los consorciados la responsabilidad de cada uno de ellos; ubicación de la obra, fecha de culminación de la consultoría; y monto final de la consultoría. c) Copia del documento de aprobación del expediente técnico o documento que declara viable la ficha técnica de inversión o estudios de preinversión y/o conformidad de obra para el caso de supervisión de obra emitido por la autoridad competente y en caso de que, por la naturaleza de la obra, no exista autoridad competente, la aprobación debe ser emitida por el órgano técnico de la contratante. d) Documento emitido por la contratante donde se detalle la descripción de la obra y las actividades desarrolladas por el consultor. e) Copia de los comprobantes de pago emitidos por el Proveedor, cuya sumatoria debe ser equivalente al monto final de la consultoría. 7.2 Adicionalmente, para solicitud de reinscripción: i. Consultoría de obras culminadas en el Perú en el marco de la Ley: TA LEGAL ACO ESCUELA DE GESTORES PUBLICOS\n",
      "\n",
      "# 255\n",
      "\n",
      "a) Copia de la Constancia de Prestación u otro documento, emitido por la entidad contratante, el mismo que, entre otros datos, contiene la siguiente información: entidad contratante, procedimiento de selección, nombre del contratista; el nombre y RUC de cada consorciado con las obligaciones asumidas de cada consorciado; ubicación de la obra proyectada o supervisada según corresponda; objeto de la consultoría, fecha de suscripción del contrato, monto del contrato, fecha de culminación de la consultoría de obra, y adicionalmente para el caso de la categoría (a), debe presentar documento que declara viable la ficha técnica de inversión o estudios de preinversión. 381.3. Ejecutores de obras\n",
      "\n",
      "  History:\n",
      "  \n",
      "\n",
      "  Question:\n",
      "  de que trata el documento?\n",
      "\n",
      "  Answer:\n",
      "\u001b[0m\n",
      "\n",
      "\u001b[1m> Finished chain.\u001b[0m\n",
      "\n",
      "\u001b[1m> Finished chain.\u001b[0m\n",
      "{'query': 'de que trata el documento?', 'result': 'El documento trata sobre los requisitos para la inscripción y reinscripción en el Registro Nacional de Proveedores (RNP) en relación con la consultoría de obras, tanto en el Perú como en el extranjero. Especifica la documentación necesaria para acreditar la experiencia en consultoría de obras culminadas, incluyendo contratos, documentos de conformidad, comprobantes de pago y otros documentos relevantes que demuestren el cumplimiento de los requisitos de solvencia económica y experiencia.'}\n"
     ]
    }
   ],
   "source": [
    "\n",
    "x = qa({\"query\": \"de que trata el documento?\"})\n",
    "# Print the result\n",
    "print(x)"
   ]
  },
  {
   "cell_type": "markdown",
   "id": "67644da5",
   "metadata": {},
   "source": [
    "## ¿Cómo saber en qué página se encuentra la respuesta?\n",
    "Cuando usas un retriever como `VertexAISearchRetriever`, los documentos recuperados suelen incluir metadata, como el identificador del documento, la fuente y, en algunos casos, la página de donde proviene el fragmento. Puedes acceder a esta información desde el resultado del retriever o de la cadena QA."
   ]
  },
  {
   "cell_type": "code",
   "execution_count": 26,
   "id": "8e66ecfc",
   "metadata": {},
   "outputs": [
    {
     "name": "stdout",
     "output_type": "stream",
     "text": [
      "[Document(metadata={'id': '76d8fa4d8431ff949d9519d789b33c09', 'source': 'gs://legalaco/LeyGeneralDeContratacionesPublicas.pdf', 'previous_segments': [{'content': '# d) Inscripción o reinscripción de consultores de obras, persona jurídica extranjera\\n\\n1. Solicitud presentada mediante formulario. 2. Indicar el número de recibo y fecha del pago (por derecho de tramitación). 3. Copia de la escritura pública inscrita en Registros Públicos o ante autoridad competente en su país de origen o copia del documento oficial emitido por la autoridad registral, institución o autoridad competente en su país de origen, que acredite que su representante legal cuenta con la facultad de representación en procedimientos administrativos ante entidades públicas fuera de su país de origen, en la cual debe encontrarse comprendido el Perú, cuando la persona jurídica actúe con representante legal desde su país de origen. 4. Copia de documento oficial emitido por autoridad registral, institución o autoridad competente en su país de origen, según sea el caso, que acredite la información actualizada declarada en el formulario oficial respecto de la conformación jurídica de la matriz, o, en su defecto, copia de la escritura pública, donde conste su inscripción ante entidad similar a Registros Públicos o ante autoridad competente en su país de origen. Cuando en dichos documentos no figure la distribución de acciones y/o la fecha de ingreso de los socios, presenta copia del documento similar al libro de matrícula de acciones y copia de su hoja donde conste la legalización de la apertura del libro o copia de la escritura pública o copia del acta de la Junta General de Accionistas de la empresa donde figure dicha información, según corresponda. Excepcionalmente, cuando el país de origen no expida los instrumentos antes mencionados, puede presentar copia del documento emitido por el órgano de administración que cuente con facultades para realizar dichas declaraciones. 5. Cuando las acciones sean cotizadas en bolsa, para efectos de acreditar a los socios, fecha de ingreso y distribución de acciones, presenta copia del certificado que emite el organismo pertinente (bolsa de valores) o documento suscrito por el órgano de administración que cuente con facultades para realizar dichas declaraciones. 6. Copia de los Estados Financieros Auditados individuales del último ejercicio económico; o en su defecto, copia de los Estados Financieros Auditados\\n\\n# 254\\n\\nA LEGAL ACO ESCUELA DE GESTORES PUBLICOS consolidados en los que se pueda evidenciar de forma individual la información financiera de la empresa que solicita su inscripción o reinscripción; en ambos casos, debe contener como mínimo la copia del Dictamen de auditor independiente, y las copias del Estado de Situación Financiera, Estado de Resultados y las Notas Contables respectivas. En caso no cumpla con la condición de solvencia, respecto a los ratios de “endeudamiento” y/o “liquidez” corriente, debe presentar cronograma mensual de las amortizaciones durante el ejercicio siguiente de las cuentas que conforman el \"total pasivo” o el \"total pasivo corriente”, respectivamente, debidamente firmados por el órgano de administración de la matriz. En caso de insolvencia patrimonial a causa de pérdidas del ejercicio o acumuladas, el proveedor debe presentar la copia de los Estados Financieros', 'page_span': {'page_end': 255.0, 'page_start': 251.0}, 'id': 'c363'}], 'next_segments': [{'content': 'Adicionalmente a las condiciones establecidas en el artículo 25, los ejecutores de obras deben presentar los siguientes requisitos, en el marco de los procedimientos administrativos a cargo del OECE: a) Inscripción o reinscripción de ejecutores de obras, persona natural nacional 1. Solicitud presentada mediante formulario. 2. Indicar el número de recibo y fecha del pago (por derecho de tramitación). 3. Copia del documento expedido por el Colegio Profesional de Arquitectos o de Ingenieros del Perú, cuando no se visualice la fecha de incorporación, profesión y especialidad en la página web de los referidos colegios profesionales. 4. Copia de la declaración jurada anual del Impuesto a la Renta tercera categoría del último ejercicio gravable declarada a la SUNAT y la constancia de presentación respectiva; o en su defecto, la copia de los Estados Financieros Auditados individuales del último ejercicio económico, conteniendo como mínimo copia del Dictamen de auditor independiente; y las copias del Estado de Situación Financiera, Estado de Resultados y las Notas Contables respectivas; o consignar en el formulario electrónico los Estados Financieros Situacionales, cuando en los casos de inscripción acredite no haberse encontrado obligado a presentar la última declaración de Renta tercera categoría a SUNAT y cuente con más de seis (6) meses de actividades económicas o consignar en el formulario electrónico los Estados Financieros Situacionales, cuando en los casos de reinscripción acredite no haberse encontrado obligado a presentar la última declaración de Renta tercera categoría. En caso cuente con menos de seis (6) meses de actividades económicas debe acreditar su capital con copia del Libro Contable que corresponda, en el que se muestre el registro de la cuenta Capital. En todos los casos, los activos que respalden el capital contable deben corresponder a bienes propios de la persona natural. Cuando la calificación reportada a la Central de Riesgos de la SBS sea distinta a la “Normal (0)^{\\\\prime\\\\prime}, debe consignar en el formulario electrónico los Estados Financieros Situacionales, así como, presentar la copia del comprobante de pago, constancia de pago de deuda reportada, constancia de deuda no vencida, cronograma de refinanciamiento, constancia de no adeudos u otro documento que corresponda, para acreditar mejora o regularización sobre la(s) deuda(s) reportada(s). En caso no cumpla con la condición de solvencia, respecto a las ratios de \"endeudamiento” y/o “liquidez corriente, debe consignar en el formulario electrónico los Estados Financieros Situacionales. En caso de insolvencia patrimonial a causa de pérdidas del ejercicio o acumuladas, el proveedor debe consignar en el formulario electrónico los Estados Financieros Situacionales, a fin de demostrar haber restablecido el equilibrio económico entre el capital y el patrimonio neto para cumplir con los parámetros de medición de solvencia económica establecidos para el RNP.\\n\\n# 256\\n\\nTA LEGAL ACO ESCUELA DE GESTORES PUBLICOS 5. De contar con experiencia en ejecución de obras culminadas en el Perú y/o en el extranjero, se debe acreditar con lo siguiente: 5.1 Para solicitud de inscripción y/o reinscripción i. Ejecución de obras culminadas en el extranjero a) Copia del contrato de ejecución de obra.', 'page_span': {'page_end': 254.0, 'page_start': 253.0}, 'id': 'c365'}]}, page_content='Situacionales conteniendo como mínimo el Estado de Situación Financiera, Estado de Resultados y las Notas Contables respectivas, debidamente firmados por el órgano de administración de la matriz, a fin de demostrar haber restablecido el equilibrio económico entre el capital y el patrimonio neto para cumplir con los parámetros de medición de solvencia económica establecidos para el RNP. 7. De contar con experiencia en consultoría de obras culminadas en el Perú y/o en el extranjero, se debe acreditar con lo siguiente: 7.1 Para solicitud de inscripción y/o reinscripción i. Consultoría de obras culminadas en el extranjero: a) Copia del contrato de consultoría de obra. b) Copia del (o los) documento(s) de conformidad o viabilidad según corresponda emitido(s) por el contratante, donde indique nombre del contratista o consorcio (de ser consorcio debe indicar además las obligaciones asumidas por cada integrante), objeto del contrato, el monto del contrato, la fecha de culminación de la consultoría, y descripción de los trabajos o metas de la consultoría. ii. Consultoría de obras culminadas en el Perú fuera del marco de la Ley: a) Copia del contrato de consultoría de obra. b) Copia del (o los) documento(s) emitido(s) por el contratante, donde indique el nombre del contratista y RUC, en caso de consorcio debe hacer dicha precisión respecto a cada uno de los consorciados la responsabilidad de cada uno de ellos; ubicación de la obra, fecha de culminación de la consultoría; y monto final de la consultoría. c) Copia del documento de aprobación del expediente técnico o documento que declara viable la ficha técnica de inversión o estudios de preinversión y/o conformidad de obra para el caso de supervisión de obra emitido por la autoridad competente y en caso de que, por la naturaleza de la obra, no exista autoridad competente, la aprobación debe ser emitida por el órgano técnico de la contratante. d) Documento emitido por la contratante donde se detalle la descripción de la obra y las actividades desarrolladas por el consultor. e) Copia de los comprobantes de pago emitidos por el Proveedor, cuya sumatoria debe ser equivalente al monto final de la consultoría. 7.2 Adicionalmente, para solicitud de reinscripción: i. Consultoría de obras culminadas en el Perú en el marco de la Ley: TA LEGAL ACO ESCUELA DE GESTORES PUBLICOS\\n\\n# 255\\n\\na) Copia de la Constancia de Prestación u otro documento, emitido por la entidad contratante, el mismo que, entre otros datos, contiene la siguiente información: entidad contratante, procedimiento de selección, nombre del contratista; el nombre y RUC de cada consorciado con las obligaciones asumidas de cada consorciado; ubicación de la obra proyectada o supervisada según corresponda; objeto de la consultoría, fecha de suscripción del contrato, monto del contrato, fecha de culminación de la consultoría de obra, y adicionalmente para el caso de la categoría (a), debe presentar documento que declara viable la ficha técnica de inversión o estudios de preinversión. 381.3. Ejecutores de obras')]\n"
     ]
    }
   ],
   "source": [
    "# Ejemplo: Mostrar metadata de los documentos recuperados (incluyendo página si está disponible)\n",
    "docs = retriever.invoke(\"De que trata el documento?\")\n",
    "print(docs)"
   ]
  },
  {
   "cell_type": "markdown",
   "id": "db7c1df0",
   "metadata": {},
   "source": [
    "### Cómo extraer la información de página de los documentos recuperados\n",
    "Puedes acceder a la metadata de cada documento, incluyendo información de páginas si está disponible, recorriendo la lista de documentos y accediendo a los campos relevantes en `metadata`. Por ejemplo, si existe un campo `previous_segments` o `next_segments` con información de páginas, puedes extraerla así:"
   ]
  },
  {
   "cell_type": "code",
   "execution_count": 27,
   "id": "3a327dc6",
   "metadata": {},
   "outputs": [
    {
     "name": "stdout",
     "output_type": "stream",
     "text": [
      "ID: 76d8fa4d8431ff949d9519d789b33c09\n",
      "Fuente: gs://legalaco/LeyGeneralDeContratacionesPublicas.pdf\n",
      "Páginas (segmento previo): {'page_end': 255.0, 'page_start': 251.0}\n",
      "Páginas (segmento siguiente): {'page_end': 254.0, 'page_start': 253.0}\n",
      "---\n"
     ]
    }
   ],
   "source": [
    "# Mostrar información de páginas si está disponible en los segmentos\n",
    "for doc in docs:\n",
    "    print('ID:', doc.metadata.get('id'))\n",
    "    print('Fuente:', doc.metadata.get('source'))\n",
    "    # Buscar información de páginas en previous_segments\n",
    "    prev_segments = doc.metadata.get('previous_segments', [])\n",
    "    for seg in prev_segments:\n",
    "        page_span = seg.get('page_span')\n",
    "        if page_span:\n",
    "            print('Páginas (segmento previo):', page_span)\n",
    "    # Buscar información de páginas en next_segments\n",
    "    next_segments = doc.metadata.get('next_segments', [])\n",
    "    for seg in next_segments:\n",
    "        page_span = seg.get('page_span')\n",
    "        if page_span:\n",
    "            print('Páginas (segmento siguiente):', page_span)\n",
    "    print('---')"
   ]
  },
  {
   "cell_type": "markdown",
   "id": "fc923b41",
   "metadata": {},
   "source": [
    "### Explicación de los campos de metadata\n",
    "- **ID:** Es el identificador único del documento dentro del sistema o base de datos.\n",
    "- **Fuente:** Es la ubicación o ruta del archivo fuente, en este caso un PDF almacenado en Google Cloud Storage.\n",
    "- **Páginas (segmento previo):** Indica el rango de páginas del segmento anterior relacionado con el contenido recuperado. Por ejemplo, `{'page_end': 255.0, 'page_start': 251.0}` significa que el segmento previo abarca desde la página 251 hasta la 255 del documento.\n",
    "- **Páginas (segmento siguiente):** Indica el rango de páginas del segmento siguiente relacionado con el contenido recuperado. Por ejemplo, `{'page_end': 254.0, 'page_start': 253.0}` significa que el segmento siguiente abarca desde la página 253 hasta la 254 del documento.\n",
    "\n",
    "Estos campos te permiten saber de qué documento y de qué páginas proviene la información utilizada para responder la pregunta."
   ]
  }
 ],
 "metadata": {
  "kernelspec": {
   "display_name": ".venv",
   "language": "python",
   "name": "python3"
  },
  "language_info": {
   "codemirror_mode": {
    "name": "ipython",
    "version": 3
   },
   "file_extension": ".py",
   "mimetype": "text/x-python",
   "name": "python",
   "nbconvert_exporter": "python",
   "pygments_lexer": "ipython3",
   "version": "3.12.7"
  }
 },
 "nbformat": 4,
 "nbformat_minor": 5
}
